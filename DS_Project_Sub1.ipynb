{
  "cells": [
    {
      "cell_type": "code",
      "execution_count": 39,
      "metadata": {},
      "outputs": [],
      "source": [
        "# Submission - 1\n",
        "# Import libraries\n",
        "import numpy as np\n",
        "import pandas as pd\n",
        "import matplotlib.pyplot as plt\n",
        "import seaborn as sns\n",
        "from collections import Counter\n",
        "import glob\n",
        "import statistics\n",
        "import os\n",
        "\n",
        "# Ignore warnings\n",
        "import warnings\n",
        "warnings.filterwarnings(\"ignore\")\n",
        "\n",
        "# Specify the file path\n",
        "directory_path = 'C:\\\\Abhishek\\\\IIITD\\\\Academics\\\\CSE\\\\CSE558_DSc\\\\Project\\\\PRSA_Data_20130301-20170228'\n",
        "directory_path2 = 'C:\\\\Abhishek\\\\IIITD\\\\Academics\\\\CSE\\\\CSE558_DSc\\\\Project'\n"
      ]
    },
    {
      "cell_type": "markdown",
      "metadata": {},
      "source": [
        "First we combine all the csvs into one, keeping a column for the weather station name separately"
      ]
    },
    {
      "cell_type": "code",
      "execution_count": 40,
      "metadata": {},
      "outputs": [],
      "source": [
        "# Get a list of all files in the directory\n",
        "file_list = os.listdir(directory_path)\n",
        "\n",
        "# Combined dataframe\n",
        "com_df = []\n",
        "\n",
        "# Iterate through the files in the directory\n",
        "for filename in file_list:\n",
        "    # Construct the full file path\n",
        "    file_path = os.path.join(directory_path, filename)\n",
        "    \n",
        "    # Check if the current item is a file\n",
        "    if os.path.isfile(file_path):\n",
        "        \"Reading\", filename\n",
        "        df = pd.read_csv(file_path, index_col=None, header=0) # Converting the file to a dataframe\n",
        "        com_df.append(df)\n",
        "data = pd.concat(com_df)\n",
        "data.to_csv('output.csv', index=False)"
      ]
    },
    {
      "cell_type": "markdown",
      "metadata": {},
      "source": [
        "Then for the sake of uniformity we rename the columns so it remains the same for everyone"
      ]
    },
    {
      "cell_type": "code",
      "execution_count": 41,
      "metadata": {},
      "outputs": [],
      "source": [
        "data.drop([\"No\"], axis=1, inplace=True)\n",
        "data.rename(columns = {'year': 'Year', 'month': 'Month', 'day': \"Day\", 'hour': 'Hour', 'pm2.5': 'PM2.5', 'DEWP': 'DewP', 'TEMP': 'Temp', 'PRES': 'Press', 'RAIN': 'Rain','wd': 'WinDir', 'WSPM': 'WinSpeed', 'station': 'Station'}, inplace = True)\n",
        "data.to_csv('dataset.csv', index=False)"
      ]
    },
    {
      "cell_type": "markdown",
      "metadata": {},
      "source": [
        "We also need to deal with the null and missing values present in this dataset"
      ]
    },
    {
      "cell_type": "code",
      "execution_count": 42,
      "metadata": {},
      "outputs": [
        {
          "data": {
            "text/plain": [
              "Year            0\n",
              "Month           0\n",
              "Day             0\n",
              "Hour            0\n",
              "PM2.5        8739\n",
              "PM10         6449\n",
              "SO2          9020\n",
              "NO2         12116\n",
              "CO          20701\n",
              "O3          13277\n",
              "Temp          398\n",
              "Press         393\n",
              "DewP          403\n",
              "Rain          390\n",
              "WinDir       1822\n",
              "WinSpeed      318\n",
              "Station         0\n",
              "dtype: int64"
            ]
          },
          "execution_count": 42,
          "metadata": {},
          "output_type": "execute_result"
        }
      ],
      "source": [
        "data.isnull().sum()"
      ]
    },
    {
      "cell_type": "markdown",
      "metadata": {},
      "source": [
        "This will be done as follows :\n",
        "1. For continuous attributes like CO levels etc., collate data for each month and simply replace NA with the average value.\n",
        "2. For categorical attributes like wind direction, collate the data from the entire dataset and replace with the mode value."
      ]
    },
    {
      "cell_type": "code",
      "execution_count": 43,
      "metadata": {},
      "outputs": [
        {
          "name": "stdout",
          "output_type": "stream",
          "text": [
            "            PM2.5        PM10        NO2           CO         O3       Temp  \\\n",
            "Month                                                                         \n",
            "1       93.667037  113.227543  61.763499  1852.933132  27.633733  -1.797300   \n",
            "2       87.572234  102.682735  50.213573  1384.996511  40.734810   1.123071   \n",
            "3       94.660678  136.040075  60.124179  1310.230474  51.041261   8.348409   \n",
            "4       72.734890  116.962595  47.280261   840.493265  70.185707  15.328909   \n",
            "5       63.105338  107.038514  42.534000   795.234500  92.028567  21.482056   \n",
            "6       69.091971   86.730518  39.319569   987.904479  94.692310  24.554861   \n",
            "7       71.744853   84.631258  35.822804   891.855104  95.086942  27.194170   \n",
            "8       53.473014   71.511467  36.103815   825.603120  87.871592  26.642028   \n",
            "9       61.478105   79.673490  45.616774   925.164610  55.094877  20.765633   \n",
            "10      91.726800  112.550553  59.738056  1150.505966  29.927943  13.450143   \n",
            "11      93.331519  118.113954  61.895454  1660.204855  19.871741   4.770448   \n",
            "12     104.581244  125.480496  66.656259  2167.458906  21.387220  -0.231803   \n",
            "\n",
            "             Press       DewP      Rain  WinSpeed  \n",
            "Month                                              \n",
            "1      1022.113822 -14.754206  0.000354  1.875282  \n",
            "2      1020.306765 -13.002845  0.009995  2.007847  \n",
            "3      1013.957400  -7.945248  0.007587  1.976319  \n",
            "4      1008.307401   0.187078  0.022885  2.173886  \n",
            "5      1002.394231   6.877074  0.045874  2.065607  \n",
            "6       999.335043  15.613424  0.132986  1.576930  \n",
            "7       998.131404  19.920511  0.267686  1.497536  \n",
            "8      1001.233726  18.930494  0.096399  1.448845  \n",
            "9      1008.669595  13.967150  0.124682  1.349296  \n",
            "10     1014.897046   5.624504  0.041277  1.405987  \n",
            "11     1018.774547  -4.614541  0.018965  1.582403  \n",
            "12     1021.516852 -11.906399  0.001165  1.814481  \n",
            "      WinDir\n",
            "Month       \n",
            "1         NE\n",
            "2         NE\n",
            "3         NE\n",
            "4         SW\n",
            "5         SW\n",
            "6          E\n",
            "7         NE\n",
            "8         NE\n",
            "9         NE\n",
            "10        NE\n",
            "11        NE\n",
            "12        NE\n"
          ]
        }
      ],
      "source": [
        "directory_path2 = 'C:\\\\Abhishek\\\\IIITD\\\\Academics\\\\CSE\\\\CSE558_DSc\\\\Project'\n",
        "df = pd.read_csv(os.path.join(directory_path2, 'dataset.csv'), index_col=None)\n",
        "\n",
        "# Define the columns for which you want to calculate averages\n",
        "columns_to_average = ['PM2.5','PM10','SO2','NO2','CO','O3','Temp','Press','DewP','Rain','WinSpeed'] # Removing Wind direction since we want to use mode for that\n",
        "\n",
        "# Define the columns with missing values\n",
        "columns_with_missing = ['WinSpeed']\n",
        "\n",
        "# Group the DataFrame by 'month' and calculate the averages for the specified columns\n",
        "averages_by_month = df.groupby('Month')[columns_to_average].mean()\n",
        "\n",
        "# Group the DataFrame by 'month' and calculate the mode for the categorical column\n",
        "modes_by_month = df.groupby('Month')[['WinDir']].agg(lambda x: x.mode()[0] if not x.mode().empty else None)\n",
        "\n",
        "# Print the resulting DataFrame\n",
        "print(averages_by_month)\n",
        "print(modes_by_month)"
      ]
    },
    {
      "cell_type": "markdown",
      "metadata": {},
      "source": [
        "Now we actually replace the values based on the averages calculated"
      ]
    },
    {
      "cell_type": "code",
      "execution_count": 49,
      "metadata": {},
      "outputs": [
        {
          "name": "stdout",
          "output_type": "stream",
          "text": [
            "Year\n",
            "Month\n",
            "Day\n",
            "Hour\n",
            "PM2.5\n",
            "PM10\n",
            "SO2\n",
            "NO2\n",
            "CO\n",
            "O3\n",
            "Temp\n",
            "Press\n",
            "DewP\n",
            "Rain\n",
            "WinDir\n",
            "WinSpeed\n",
            "Station\n",
            "4\n",
            "4\n",
            "5\n",
            "11\n",
            "12\n",
            "18\n"
          ]
        }
      ],
      "source": [
        "# Iterate through the DataFrame and replace null or missing values with the corresponding averages\n",
        "\n",
        "for column in df.columns:\n",
        "    print(column)\n",
        "    \n",
        "i = 0\n",
        "for index, row in df.iterrows():\n",
        "    if i > 5:\n",
        "        break\n",
        "    print(df.at[index,'SO2'])\n",
        "    i += 1\n",
        "\n",
        "# for index, row in df.iterrows():\n",
        "#     for column in df.columns:\n",
        "#         if pd.isnull(df.at[index, column]):\n",
        "#             if column == 'WinDir':\n",
        "#                 df.at[index, column] = modes_by_month.loc[df.at[index, 'Month'], 'WinDir']\n",
        "#             else:\n",
        "#                 df.at[index, column] = averages_by_month.loc[df.at[index, 'Month'], column]\n",
        "\n",
        "# print(df[:10])"
      ]
    }
  ],
  "metadata": {
    "colab": {
      "provenance": []
    },
    "kernelspec": {
      "display_name": "Python 3",
      "name": "python3"
    },
    "language_info": {
      "codemirror_mode": {
        "name": "ipython",
        "version": 3
      },
      "file_extension": ".py",
      "mimetype": "text/x-python",
      "name": "python",
      "nbconvert_exporter": "python",
      "pygments_lexer": "ipython3",
      "version": "3.10.9"
    }
  },
  "nbformat": 4,
  "nbformat_minor": 0
}

{
  "cells": [
    {
      "cell_type": "code",
      "execution_count": 25,
      "metadata": {},
      "outputs": [],
      "source": [
        "# Submission - 1\n",
        "# Import libraries\n",
        "import numpy as np\n",
        "import pandas as pd\n",
        "import matplotlib.pyplot as plt\n",
        "import seaborn as sns\n",
        "from collections import Counter\n",
        "import glob\n",
        "import statistics\n",
        "import os\n",
        "import math\n",
        "import datetime\n",
        "# Ignore warnings\n",
        "import warnings\n",
        "warnings.filterwarnings(\"ignore\")\n",
        "\n",
        "# Specify the file path\n",
        "directory_path = 'C:\\\\Abhishek\\\\IIITD\\\\Academics\\\\CSE\\\\CSE558_DSc\\\\Project\\\\PRSA_Data_20130301-20170228'\n",
        "directory_path2 = 'C:\\\\Abhishek\\\\IIITD\\\\Academics\\\\CSE\\\\CSE558_DSc\\\\Project'\n"
      ]
    },
    {
      "cell_type": "markdown",
      "metadata": {},
      "source": [
        "First we combine all the csvs into one, keeping a column for the weather station name separately"
      ]
    },
    {
      "cell_type": "code",
      "execution_count": 2,
      "metadata": {},
      "outputs": [],
      "source": [
        "# Get a list of all files in the directory\n",
        "file_list = os.listdir(directory_path)\n",
        "\n",
        "# Combined dataframe\n",
        "com_df = []\n",
        "\n",
        "# Iterate through the files in the directory\n",
        "for filename in file_list:\n",
        "    # Construct the full file path\n",
        "    file_path = os.path.join(directory_path, filename)\n",
        "    \n",
        "    # Check if the current item is a file\n",
        "    if os.path.isfile(file_path):\n",
        "        \"Reading\", filename\n",
        "        df = pd.read_csv(file_path, index_col=None, header=0) # Converting the file to a dataframe\n",
        "        com_df.append(df)\n",
        "data = pd.concat(com_df)\n",
        "data.to_csv('output.csv', index=False)"
      ]
    },
    {
      "cell_type": "markdown",
      "metadata": {},
      "source": [
        "Then for the sake of uniformity we rename the columns so it remains the same for everyone"
      ]
    },
    {
      "cell_type": "code",
      "execution_count": 3,
      "metadata": {},
      "outputs": [],
      "source": [
        "data.drop([\"No\"], axis=1, inplace=True)\n",
        "data.rename(columns = {'year': 'Year', 'month': 'Month', 'day': \"Day\", 'hour': 'Hour', 'pm2.5': 'PM2.5', 'DEWP': 'DewP', 'TEMP': 'Temp', 'PRES': 'Press', 'RAIN': 'Rain','wd': 'WinDir', 'WSPM': 'WinSpeed', 'station': 'Station'}, inplace = True)\n",
        "\n",
        "data.to_csv('dataset.csv', index=False)"
      ]
    },
    {
      "cell_type": "markdown",
      "metadata": {},
      "source": [
        "We also need to deal with the null and missing values present in this dataset"
      ]
    },
    {
      "cell_type": "code",
      "execution_count": null,
      "metadata": {},
      "outputs": [],
      "source": [
        "data.isnull().sum()"
      ]
    },
    {
      "cell_type": "markdown",
      "metadata": {},
      "source": [
        "This will be done as follows :\n",
        "1. For continuous attributes like CO levels etc., collate data for each month and simply replace NA with the average value.\n",
        "2. For categorical attributes like wind direction, collate the data from the entire dataset and replace with the mode value."
      ]
    },
    {
      "cell_type": "code",
      "execution_count": null,
      "metadata": {},
      "outputs": [],
      "source": [
        "directory_path2 = 'C:\\\\Abhishek\\\\IIITD\\\\Academics\\\\CSE\\\\CSE558_DSc\\\\Project'\n",
        "df = pd.read_csv(os.path.join(directory_path2, 'dataset.csv'), index_col=None)\n",
        "SO2,counts = {}, df['Month'].value_counts()\n",
        "for i in range(12):\n",
        "    SO2[i+1] = 0\n",
        "\n",
        "for index, row in df.iterrows():\n",
        "    if not row['SO2'] == ' ' and not math.isnan(float(row['SO2'])):\n",
        "        SO2[row['Month']] += (float(row['SO2'])/counts[row['Month']]) \n",
        "average_SO2 = np.array([round(num, 6) for num in SO2.values()])\n",
        "\n",
        "# Define the columns for which you want to calculate averages\n",
        "columns_to_average = ['PM2.5','PM10','NO2','CO','O3','Temp','Press','DewP','Rain','WinSpeed'] # Removing Wind direction since we want to use mode for that\n",
        "\n",
        "# Define the columns with missing values\n",
        "columns_with_missing = ['WinDir']\n",
        "\n",
        "# Group the DataFrame by 'month' and calculate the averages for the specified columns\n",
        "averages_by_month = df.groupby('Month')[columns_to_average].mean()\n",
        "\n",
        "# Adding the SO2 average as well\n",
        "averages_by_month['SO2'] = average_SO2\n",
        "\n",
        "# Group the DataFrame by 'month' and calculate the mode for the categorical column\n",
        "modes_by_month = df.groupby('Month')[['WinDir']].agg(lambda x: x.mode()[0] if not x.mode().empty else None)\n",
        "\n",
        "# Print the resulting DataFrame\n",
        "print(averages_by_month)\n",
        "# print(modes_by_month)"
      ]
    },
    {
      "cell_type": "markdown",
      "metadata": {},
      "source": [
        "Now we actually replace the values based on the averages calculated"
      ]
    },
    {
      "cell_type": "code",
      "execution_count": null,
      "metadata": {},
      "outputs": [],
      "source": [
        "# Iterate through the DataFrame and replace null or missing values with the corresponding averages\n",
        "\n",
        "for index, row in df.iterrows():\n",
        "    for column in df.columns:\n",
        "        if pd.isnull(df.at[index, column]):\n",
        "            if column == 'WinDir':\n",
        "                df.at[index, column] = modes_by_month.loc[df.at[index, 'Month'], 'WinDir']\n",
        "            else:\n",
        "                df.at[index, column] = averages_by_month.loc[df.at[index, 'Month'], column]\n",
        "\n",
        "print(df[:10])\n",
        "df.to_csv('Non_Missing_Dataset.csv', index=False)"
      ]
    },
    {
      "cell_type": "markdown",
      "metadata": {},
      "source": [
        "Finally we add Day and Week as attributes as it gives a more clear sense of what part of the year we are in. Pertaining to seasons etc, which will likely play an important role in weather and pollution statistics."
      ]
    },
    {
      "cell_type": "code",
      "execution_count": null,
      "metadata": {},
      "outputs": [],
      "source": [
        "def get_week_and_day(month, day,year):\n",
        "    if month < 1 or month > 12 or day < 1 or day > 31:\n",
        "        return None  # Invalid input\n",
        "    \n",
        "    # Create a date object with the provided month and day\n",
        "    date_obj = datetime.date(year, month, day)\n",
        "    \n",
        "    # Calculate the ISO week number (1-52/53) and weekday (1-7)\n",
        "    week_number = date_obj.isocalendar()[1]\n",
        "    day_of_week = date_obj.isocalendar()[2]\n",
        "    \n",
        "    return week_number, day_of_week\n",
        "\n",
        "df2 = df.copy()\n",
        "\n",
        "weeks = []\n",
        "days = []\n",
        "for i in range(len(df)):\n",
        "    # Calculate the week and day number based of Month, Year and Day details\n",
        "    week, day = get_week_and_day(df2['Month'][i], df2['Day'][i], df2['Year'][i])\n",
        "    weeks.append(week)\n",
        "    days.append(day)\n",
        "\n",
        "# Set these as new columns\n",
        "df2['Week'] = weeks\n",
        "df2['DayOfWeek'] = days\n",
        "\n",
        "# Final Dataset obtained\n",
        "df2.to_csv('Final_Dataset.csv', index=False)\n"
      ]
    }
  ],
  "metadata": {
    "colab": {
      "provenance": []
    },
    "kernelspec": {
      "display_name": "Python 3",
      "name": "python3"
    },
    "language_info": {
      "codemirror_mode": {
        "name": "ipython",
        "version": 3
      },
      "file_extension": ".py",
      "mimetype": "text/x-python",
      "name": "python",
      "nbconvert_exporter": "python",
      "pygments_lexer": "ipython3",
      "version": "3.10.9"
    }
  },
  "nbformat": 4,
  "nbformat_minor": 0
}

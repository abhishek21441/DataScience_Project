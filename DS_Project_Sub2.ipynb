{
  "cells": [
    {
      "cell_type": "code",
      "execution_count": 11,
      "metadata": {
        "id": "Ye6dCTMhKekO"
      },
      "outputs": [
        {
          "name": "stderr",
          "output_type": "stream",
          "text": [
            "C:\\Users\\abhis\\AppData\\Local\\Temp\\ipykernel_29036\\285464059.py:6: DtypeWarning: Columns (6) have mixed types. Specify dtype option on import or set low_memory=False.\n",
            "  df = pd.read_csv(\"C:\\\\Abhishek\\\\IIITD\\\\Academics\\\\CSE\\\\CSE558_DSc\\\\Project\\\\Final_Dataset.csv\")\n"
          ]
        }
      ],
      "source": [
        "import numpy as np\n",
        "import pandas as pd\n",
        "import random\n",
        "from scipy.stats import chi2\n",
        "import math\n",
        "\n",
        "df = pd.read_csv(\"C:\\\\Abhishek\\\\IIITD\\\\Academics\\\\CSE\\\\CSE558_DSc\\\\Project\\\\Final_Dataset.csv\")"
      ]
    },
    {
      "cell_type": "code",
      "execution_count": 12,
      "metadata": {},
      "outputs": [],
      "source": [
        "def chi2_calc(df,alpha):\n",
        "    critical_value = chi2.ppf(1 - alpha, df)\n",
        "    return critical_value\n",
        "\n",
        "# # Print the result\n",
        "# print(f\"Critical Chi-Square Value for df={df} and alpha={alpha}: {critical_value:.4f}\")\n"
      ]
    },
    {
      "cell_type": "markdown",
      "metadata": {},
      "source": [
        "Z- Tests and Chi-Squared Tests for the target variables"
      ]
    },
    {
      "cell_type": "code",
      "execution_count": 17,
      "metadata": {},
      "outputs": [],
      "source": [
        "# Conduct a random sampling of 5% of the data\n",
        "size = int(df.shape[0]/20)\n",
        "indices = [random.randint(0,df.shape[0]-1) for i in range(size)]\n",
        "rainfall = [df['Rain'][i] for i in indices]\n",
        "mean_rain = np.mean(rainfall)\n",
        "pressure = [df['Press'][i] for i in indices]\n",
        "mean_press = np.mean(pressure)\n",
        "temperature = [df['Temp'][i] for i in indices]\n",
        "mean_temp = np.mean(temperature)\n",
        "PM25 = [df['PM2.5'][i] for i in indices]\n",
        "PM10 = [df['PM10'][i] for i in indices]\n",
        "\n",
        "mean_25 = np.mean(df['PM2.5'])\n",
        "std_25 = np.std(df['PM2.5'])\n",
        "mean_10 = np.mean(df['PM10'])\n",
        "std_10 = np.std(df['PM10'])\n",
        "mean_25 = np.mean(df['PM2.5'])\n",
        "sample_mean_25 = np.mean(PM25)\n",
        "sample_std_25 = np.std(PM25)*((size/(size-1))**0.5)\n",
        "sample_mean_10 = np.mean(PM10)\n",
        "sample_std_10 = np.std(PM10)*((size/(size-1))**0.5)"
      ]
    },
    {
      "cell_type": "code",
      "execution_count": 16,
      "metadata": {},
      "outputs": [
        {
          "name": "stdout",
          "output_type": "stream",
          "text": [
            "Computing Z values and Sample means : \n",
            "\n",
            "1. PM 2.5 Sample Mean = 79.39183979390361\n",
            "PM 2.5 Population Mean = 79.76656545075912 and Population Std Deviation = 80.00980321950516\n",
            "Z Score is : -0.6793169525216421\n",
            "2. PM 10 Sample Mean = 104.42165009489236\n",
            "PM 10 Population Mean = 104.61350045300435 and Population Std Deviation = 91.09328567144532\n",
            "Z Score is : -0.30547696880847774\n",
            "\n",
            "\n",
            "\n",
            "Computing Chi-Square values and Sample Std Deviation : \n",
            "\n",
            "1. PM 2.5 Sample Varaince = 6320.6646492361615\n",
            "PM 2.5 Population Variance = 6401.568611223938\n",
            "Chi Score is : 20771.1313119174\n",
            "2. PM 10 Sample Varaince = 8143.5713601925245\n",
            "PM 10 Population Variance = 8297.986694419544\n",
            "Chi Score is : 20645.527284296757\n",
            "\n",
            "\n",
            "Since the degree of freedom is 21037 thus critical value is 21375.524713112194\n"
          ]
        }
      ],
      "source": [
        "print(\"Computing Z values and Sample means : \\n\")\n",
        "\n",
        "print(f\"1. PM 2.5 Sample Mean = {sample_mean_25}\")\n",
        "print(f\"PM 2.5 Population Mean = {mean_25} and Population Std Deviation = {std_25}\")\n",
        "Z_Score_25 = (sample_mean_25 - mean_25)/(std_25/(size**0.5))\n",
        "print(f\"Z Score is : {Z_Score_25}\")\n",
        "\n",
        "print(f\"2. PM 10 Sample Mean = {sample_mean_10}\")\n",
        "print(f\"PM 10 Population Mean = {mean_10} and Population Std Deviation = {std_10}\")\n",
        "Z_Score_10 = (sample_mean_10 - mean_10)/(std_10/(size**0.5))\n",
        "print(f\"Z Score is : {Z_Score_10}\")\n",
        "\n",
        "print(\"\\n\\n\")\n",
        "print(\"Computing Chi-Square values and Sample Std Deviation : \\n\")\n",
        "\n",
        "print(f\"1. PM 2.5 Sample Varaince = {sample_std_25**2}\")\n",
        "print(f\"PM 2.5 Population Variance = {std_25**2}\")\n",
        "Chi_Score_25 = ((size - 1)*(sample_std_25**2))/std_25**2\n",
        "print(f\"Chi Score is : {Chi_Score_25}\")\n",
        "\n",
        "print(f\"2. PM 10 Sample Varaince = {sample_std_10**2}\")\n",
        "print(f\"PM 10 Population Variance = {std_10**2}\")\n",
        "Chi_Score_10 = ((size - 1)*(sample_std_10**2))/std_10**2\n",
        "print(f\"Chi Score is : {Chi_Score_10}\")\n",
        "\n",
        "print(f\"\\n\\nSince the degree of freedom is {size - 1} thus critical value is {chi2_calc(size-1,0.05)}\")"
      ]
    },
    {
      "cell_type": "markdown",
      "metadata": {},
      "source": [
        "T-Test for correlation coefficients"
      ]
    },
    {
      "cell_type": "code",
      "execution_count": 24,
      "metadata": {},
      "outputs": [],
      "source": [
        "def t_test_calc(targetname,variablename,target,target_mean,variable,variable_mean):\n",
        "    numsum, densum1, densum2 = 0, 0, 0\n",
        "    for i in range(len(target)):\n",
        "        numsum += (target[i] - target_mean)*(variable[i] - variable_mean)\n",
        "        densum1 += (target[i] - target_mean)**2\n",
        "        densum2 += (variable[i] - variable_mean)**2\n",
        "    r = numsum/(densum1*densum2)\n",
        "    t = (r * np.sqrt(size-2)) / (np.sqrt(1-(r**2)))\n",
        "    print(f\"Test Statistics for {targetname} and {variablename} is : {t}\")"
      ]
    },
    {
      "cell_type": "code",
      "execution_count": 25,
      "metadata": {},
      "outputs": [
        {
          "name": "stdout",
          "output_type": "stream",
          "text": [
            "Correlation coeeficent is -0.022629301286238798\n",
            "Test Statistics for PM25 and Rainfall is : -2.692564478919192e-06\n",
            "Correlation coeeficent is -0.030312135436531395\n",
            "Test Statistics for PM10 and Rainfall is : -3.1319216717855362e-06\n",
            "Correlation coeeficent is 0.028057336322297562\n",
            "Test Statistics for PM25 and Pressure is : 2.3249102374396277e-07\n",
            "Correlation coeeficent is -0.008932531626347839\n",
            "Test Statistics for PM10 and Pressure is : -6.427375989723267e-08\n",
            "Correlation coeeficent is -0.14147442466355364\n",
            "Test Statistics for PM25 and Temperature is : -1.0658730791667352e-06\n",
            "Correlation coeeficent is -0.10343233592027638\n",
            "Test Statistics for PM10 and Temperature is : -6.766799079527533e-07\n"
          ]
        }
      ],
      "source": [
        "# Correlation between sample rain and PM 2.5\n",
        "sam_corr_coeff_rain_25 = np.corrcoef(rainfall, PM25)[0, 1]\n",
        "print(f\"Correlation coeeficent is {sam_corr_coeff_rain_25}\")\n",
        "t_test_calc(\"PM25\",\"Rainfall\",PM25,sample_mean_25,rainfall,mean_rain)\n",
        "\n",
        "#___________________________________________________________________________\n",
        "\n",
        "# Correlation between sample rain and PM 10\n",
        "sam_corr_coeff_rain_10 = np.corrcoef(rainfall, PM10)[0, 1]\n",
        "print(f\"Correlation coeeficent is {sam_corr_coeff_rain_10}\")\n",
        "t_test_calc(\"PM10\",\"Rainfall\",PM10,sample_mean_10,rainfall,mean_rain)\n",
        "\n",
        "#___________________________________________________________________________\n",
        "\n",
        "\n",
        "# Correlation between sample pressure and PM 2.5\n",
        "sam_corr_coeff_press_25 = np.corrcoef(pressure, PM25)[0, 1]\n",
        "print(f\"Correlation coeeficent is {sam_corr_coeff_press_25}\")\n",
        "t_test_calc(\"PM25\",\"Pressure\",PM25,sample_mean_25,pressure,mean_press)\n",
        "\n",
        "#___________________________________________________________________________\n",
        "\n",
        "\n",
        "# Correlation between sample pressure and PM 10\n",
        "sam_corr_coeff_press_10 = np.corrcoef(pressure, PM10)[0, 1]\n",
        "print(f\"Correlation coeeficent is {sam_corr_coeff_press_10}\")\n",
        "t_test_calc(\"PM10\",\"Pressure\",PM10,sample_mean_10,pressure,mean_press)\n",
        "\n",
        "#___________________________________________________________________________\n",
        "\n",
        "\n",
        "# Correlation between sample temperature and PM 2.5\n",
        "sam_corr_coeff_temp_25 = np.corrcoef(temperature, PM25)[0, 1]\n",
        "print(f\"Correlation coeeficent is {sam_corr_coeff_temp_25}\")\n",
        "t_test_calc(\"PM25\",\"Temperature\",PM25,sample_mean_25,temperature,mean_temp)\n",
        "\n",
        "#___________________________________________________________________________\n",
        "\n",
        "\n",
        "# Correlation between sample temperature and PM 10\n",
        "sam_corr_coeff_temp_10 = np.corrcoef(temperature, PM10)[0, 1]\n",
        "print(f\"Correlation coeeficent is {sam_corr_coeff_temp_10}\")\n",
        "t_test_calc(\"PM10\",\"Temperature\",PM10,sample_mean_10,temperature,mean_temp)"
      ]
    }
  ],
  "metadata": {
    "colab": {
      "provenance": []
    },
    "kernelspec": {
      "display_name": "Python 3",
      "name": "python3"
    },
    "language_info": {
      "codemirror_mode": {
        "name": "ipython",
        "version": 3
      },
      "file_extension": ".py",
      "mimetype": "text/x-python",
      "name": "python",
      "nbconvert_exporter": "python",
      "pygments_lexer": "ipython3",
      "version": "3.10.9"
    }
  },
  "nbformat": 4,
  "nbformat_minor": 0
}
